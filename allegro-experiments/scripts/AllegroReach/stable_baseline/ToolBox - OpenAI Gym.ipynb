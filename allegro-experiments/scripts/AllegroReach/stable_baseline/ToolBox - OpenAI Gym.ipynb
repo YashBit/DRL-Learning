{
 "cells": [
  {
   "cell_type": "markdown",
   "metadata": {},
   "source": [
    "### 1. Import Dependencies"
   ]
  },
  {
   "cell_type": "code",
   "execution_count": 10,
   "metadata": {},
   "outputs": [
    {
     "name": "stdout",
     "output_type": "stream",
     "text": [
      "Python 2.7.16\n",
      "pip 21.1.2 from /Users/yashbharti/Library/Python/3.8/lib/python/site-packages/pip (python 3.8)\n",
      "Requirement already satisfied: stable-baselines3[extra] in /Users/yashbharti/Library/Python/3.8/lib/python/site-packages (1.0)\n",
      "Requirement already satisfied: gym>=0.17 in /Users/yashbharti/Library/Python/3.8/lib/python/site-packages (from stable-baselines3[extra]) (0.18.3)\n",
      "Requirement already satisfied: pandas in /Users/yashbharti/Library/Python/3.8/lib/python/site-packages (from stable-baselines3[extra]) (1.2.4)\n",
      "Requirement already satisfied: matplotlib in /Users/yashbharti/Library/Python/3.8/lib/python/site-packages (from stable-baselines3[extra]) (3.4.2)\n",
      "Requirement already satisfied: cloudpickle in /Users/yashbharti/Library/Python/3.8/lib/python/site-packages (from stable-baselines3[extra]) (1.6.0)\n",
      "Requirement already satisfied: numpy in /Users/yashbharti/Library/Python/3.8/lib/python/site-packages (from stable-baselines3[extra]) (1.19.5)\n",
      "Requirement already satisfied: torch>=1.4.0 in /Users/yashbharti/Library/Python/3.8/lib/python/site-packages (from stable-baselines3[extra]) (1.9.0)\n",
      "Requirement already satisfied: atari-py~=0.2.0 in /Users/yashbharti/Library/Python/3.8/lib/python/site-packages (from stable-baselines3[extra]) (0.2.9)\n",
      "Requirement already satisfied: psutil in /Users/yashbharti/Library/Python/3.8/lib/python/site-packages (from stable-baselines3[extra]) (5.8.0)\n",
      "Requirement already satisfied: opencv-python in /Users/yashbharti/Library/Python/3.8/lib/python/site-packages (from stable-baselines3[extra]) (4.5.2.54)\n",
      "Requirement already satisfied: pillow in /Users/yashbharti/Library/Python/3.8/lib/python/site-packages (from stable-baselines3[extra]) (8.2.0)\n",
      "Requirement already satisfied: tensorboard>=2.2.0 in /Users/yashbharti/Library/Python/3.8/lib/python/site-packages (from stable-baselines3[extra]) (2.5.0)\n",
      "Requirement already satisfied: six in /Library/Developer/CommandLineTools/Library/Frameworks/Python3.framework/Versions/3.8/lib/python3.8/site-packages (from atari-py~=0.2.0->stable-baselines3[extra]) (1.15.0)\n",
      "Requirement already satisfied: scipy in /Users/yashbharti/Library/Python/3.8/lib/python/site-packages (from gym>=0.17->stable-baselines3[extra]) (1.6.3)\n",
      "Requirement already satisfied: pyglet<=1.5.15,>=1.4.0 in /Users/yashbharti/Library/Python/3.8/lib/python/site-packages (from gym>=0.17->stable-baselines3[extra]) (1.5.15)\n",
      "Requirement already satisfied: setuptools>=41.0.0 in /Library/Developer/CommandLineTools/Library/Frameworks/Python3.framework/Versions/3.8/lib/python3.8/site-packages (from tensorboard>=2.2.0->stable-baselines3[extra]) (41.2.0)\n",
      "Requirement already satisfied: requests<3,>=2.21.0 in /Users/yashbharti/Library/Python/3.8/lib/python/site-packages (from tensorboard>=2.2.0->stable-baselines3[extra]) (2.25.1)\n",
      "Requirement already satisfied: absl-py>=0.4 in /Users/yashbharti/Library/Python/3.8/lib/python/site-packages (from tensorboard>=2.2.0->stable-baselines3[extra]) (0.13.0)\n",
      "Requirement already satisfied: grpcio>=1.24.3 in /Users/yashbharti/Library/Python/3.8/lib/python/site-packages (from tensorboard>=2.2.0->stable-baselines3[extra]) (1.38.0)\n",
      "Requirement already satisfied: google-auth<2,>=1.6.3 in /Users/yashbharti/Library/Python/3.8/lib/python/site-packages (from tensorboard>=2.2.0->stable-baselines3[extra]) (1.31.0)\n",
      "Requirement already satisfied: google-auth-oauthlib<0.5,>=0.4.1 in /Users/yashbharti/Library/Python/3.8/lib/python/site-packages (from tensorboard>=2.2.0->stable-baselines3[extra]) (0.4.4)\n",
      "Requirement already satisfied: werkzeug>=0.11.15 in /Users/yashbharti/Library/Python/3.8/lib/python/site-packages (from tensorboard>=2.2.0->stable-baselines3[extra]) (2.0.1)\n",
      "Requirement already satisfied: wheel>=0.26 in /Users/yashbharti/Library/Python/3.8/lib/python/site-packages (from tensorboard>=2.2.0->stable-baselines3[extra]) (0.36.2)\n",
      "Requirement already satisfied: tensorboard-data-server<0.7.0,>=0.6.0 in /Users/yashbharti/Library/Python/3.8/lib/python/site-packages (from tensorboard>=2.2.0->stable-baselines3[extra]) (0.6.1)\n",
      "Requirement already satisfied: tensorboard-plugin-wit>=1.6.0 in /Users/yashbharti/Library/Python/3.8/lib/python/site-packages (from tensorboard>=2.2.0->stable-baselines3[extra]) (1.8.0)\n",
      "Requirement already satisfied: markdown>=2.6.8 in /Users/yashbharti/Library/Python/3.8/lib/python/site-packages (from tensorboard>=2.2.0->stable-baselines3[extra]) (3.3.4)\n",
      "Requirement already satisfied: protobuf>=3.6.0 in /Users/yashbharti/Library/Python/3.8/lib/python/site-packages (from tensorboard>=2.2.0->stable-baselines3[extra]) (3.17.3)\n",
      "Requirement already satisfied: cachetools<5.0,>=2.0.0 in /Users/yashbharti/Library/Python/3.8/lib/python/site-packages (from google-auth<2,>=1.6.3->tensorboard>=2.2.0->stable-baselines3[extra]) (4.2.2)\n",
      "Requirement already satisfied: pyasn1-modules>=0.2.1 in /Users/yashbharti/Library/Python/3.8/lib/python/site-packages (from google-auth<2,>=1.6.3->tensorboard>=2.2.0->stable-baselines3[extra]) (0.2.8)\n",
      "Requirement already satisfied: rsa<5,>=3.1.4 in /Users/yashbharti/Library/Python/3.8/lib/python/site-packages (from google-auth<2,>=1.6.3->tensorboard>=2.2.0->stable-baselines3[extra]) (4.7.2)\n",
      "Requirement already satisfied: requests-oauthlib>=0.7.0 in /Users/yashbharti/Library/Python/3.8/lib/python/site-packages (from google-auth-oauthlib<0.5,>=0.4.1->tensorboard>=2.2.0->stable-baselines3[extra]) (1.3.0)\n",
      "Requirement already satisfied: pyasn1<0.5.0,>=0.4.6 in /Users/yashbharti/Library/Python/3.8/lib/python/site-packages (from pyasn1-modules>=0.2.1->google-auth<2,>=1.6.3->tensorboard>=2.2.0->stable-baselines3[extra]) (0.4.8)\n",
      "Requirement already satisfied: urllib3<1.27,>=1.21.1 in /Users/yashbharti/Library/Python/3.8/lib/python/site-packages (from requests<3,>=2.21.0->tensorboard>=2.2.0->stable-baselines3[extra]) (1.26.5)\n",
      "Requirement already satisfied: idna<3,>=2.5 in /Users/yashbharti/Library/Python/3.8/lib/python/site-packages (from requests<3,>=2.21.0->tensorboard>=2.2.0->stable-baselines3[extra]) (2.10)\n",
      "Requirement already satisfied: chardet<5,>=3.0.2 in /Users/yashbharti/Library/Python/3.8/lib/python/site-packages (from requests<3,>=2.21.0->tensorboard>=2.2.0->stable-baselines3[extra]) (4.0.0)\n",
      "Requirement already satisfied: certifi>=2017.4.17 in /Users/yashbharti/Library/Python/3.8/lib/python/site-packages (from requests<3,>=2.21.0->tensorboard>=2.2.0->stable-baselines3[extra]) (2021.5.30)\n",
      "Requirement already satisfied: oauthlib>=3.0.0 in /Users/yashbharti/Library/Python/3.8/lib/python/site-packages (from requests-oauthlib>=0.7.0->google-auth-oauthlib<0.5,>=0.4.1->tensorboard>=2.2.0->stable-baselines3[extra]) (3.1.1)\n",
      "Requirement already satisfied: typing-extensions in /Users/yashbharti/Library/Python/3.8/lib/python/site-packages (from torch>=1.4.0->stable-baselines3[extra]) (3.7.4.3)\n",
      "Requirement already satisfied: pyparsing>=2.2.1 in /Users/yashbharti/Library/Python/3.8/lib/python/site-packages (from matplotlib->stable-baselines3[extra]) (2.4.7)\n",
      "Requirement already satisfied: cycler>=0.10 in /Users/yashbharti/Library/Python/3.8/lib/python/site-packages (from matplotlib->stable-baselines3[extra]) (0.10.0)\n",
      "Requirement already satisfied: python-dateutil>=2.7 in /Users/yashbharti/Library/Python/3.8/lib/python/site-packages (from matplotlib->stable-baselines3[extra]) (2.8.1)\n",
      "Requirement already satisfied: kiwisolver>=1.0.1 in /Users/yashbharti/Library/Python/3.8/lib/python/site-packages (from matplotlib->stable-baselines3[extra]) (1.3.1)\n",
      "Requirement already satisfied: pytz>=2017.3 in /Users/yashbharti/Library/Python/3.8/lib/python/site-packages (from pandas->stable-baselines3[extra]) (2021.1)\n"
     ]
    }
   ],
   "source": [
    "!python --version\n",
    "!pip --version\n",
    "!pip install --user stable-baselines3[extra]"
   ]
  },
  {
   "cell_type": "code",
   "execution_count": 11,
   "metadata": {},
   "outputs": [
    {
     "name": "stdout",
     "output_type": "stream",
     "text": [
      "Requirement already satisfied: gym in /Users/yashbharti/Library/Python/3.8/lib/python/site-packages (0.18.3)\r\n",
      "Requirement already satisfied: cloudpickle<1.7.0,>=1.2.0 in /Users/yashbharti/Library/Python/3.8/lib/python/site-packages (from gym) (1.6.0)\r\n",
      "Requirement already satisfied: scipy in /Users/yashbharti/Library/Python/3.8/lib/python/site-packages (from gym) (1.6.3)\r\n",
      "Requirement already satisfied: numpy>=1.10.4 in /Users/yashbharti/Library/Python/3.8/lib/python/site-packages (from gym) (1.19.5)\r\n",
      "Requirement already satisfied: Pillow<=8.2.0 in /Users/yashbharti/Library/Python/3.8/lib/python/site-packages (from gym) (8.2.0)\r\n",
      "Requirement already satisfied: pyglet<=1.5.15,>=1.4.0 in /Users/yashbharti/Library/Python/3.8/lib/python/site-packages (from gym) (1.5.15)\r\n"
     ]
    }
   ],
   "source": [
    "!pip install --user gym"
   ]
  },
  {
   "cell_type": "code",
   "execution_count": 15,
   "metadata": {},
   "outputs": [],
   "source": [
    "import sys\n",
    "sys.path.append('/Users/yashbharti/Library/Python/3.8/lib/python/site-packages')"
   ]
  },
  {
   "cell_type": "code",
   "execution_count": 16,
   "metadata": {},
   "outputs": [],
   "source": [
    "import os \n",
    "import gym\n",
    "from stable_baselines3 import PPO\n",
    "from stable_baselines3.common.vec_env import DummyVecEnv\n",
    "from stable_baselines3.common.evaluation import evaluate_policy"
   ]
  },
  {
   "cell_type": "markdown",
   "metadata": {},
   "source": [
    "### 2. Load Environment"
   ]
  },
  {
   "cell_type": "code",
   "execution_count": 19,
   "metadata": {},
   "outputs": [],
   "source": [
    "environment_name = \"CartPole-v0\"\n",
    "env = gym.make(environment_name)"
   ]
  },
  {
   "cell_type": "code",
   "execution_count": 20,
   "metadata": {},
   "outputs": [
    {
     "data": {
      "text/plain": [
       "'CartPole-v0'"
      ]
     },
     "execution_count": 20,
     "metadata": {},
     "output_type": "execute_result"
    }
   ],
   "source": [
    "environment_name"
   ]
  },
  {
   "cell_type": "code",
   "execution_count": 27,
   "metadata": {},
   "outputs": [
    {
     "name": "stdout",
     "output_type": "stream",
     "text": [
      "Episode: 1 Score: 28.0\n",
      "Episode: 2 Score: 25.0\n",
      "Episode: 3 Score: 30.0\n",
      "Episode: 4 Score: 19.0\n",
      "Episode: 5 Score: 26.0\n",
      "Episode: 6 Score: 25.0\n",
      "Episode: 7 Score: 19.0\n",
      "Episode: 8 Score: 38.0\n",
      "Episode: 9 Score: 14.0\n",
      "Episode: 10 Score: 26.0\n",
      "Episode: 11 Score: 14.0\n",
      "Episode: 12 Score: 24.0\n",
      "Episode: 13 Score: 12.0\n",
      "Episode: 14 Score: 15.0\n",
      "Episode: 15 Score: 33.0\n",
      "Episode: 16 Score: 15.0\n",
      "Episode: 17 Score: 14.0\n",
      "Episode: 18 Score: 27.0\n",
      "Episode: 19 Score: 12.0\n",
      "Episode: 20 Score: 19.0\n"
     ]
    }
   ],
   "source": [
    "episodes = 20\n",
    "for episode in range(1, episodes+1):\n",
    "    state = env.reset()\n",
    "    done = False\n",
    "    score = 0\n",
    "    while not done:\n",
    "        env.render()\n",
    "        action = env.action_space.sample()\n",
    "        n_state, reward, done, info = env.step(action)\n",
    "        score += reward\n",
    "        \n",
    "    print('Episode: {} Score: {}'.format(episode, score))\n",
    "    \n",
    "#env.close()"
   ]
  },
  {
   "cell_type": "markdown",
   "metadata": {},
   "source": [
    "### Understand the Environment\n"
   ]
  },
  {
   "cell_type": "code",
   "execution_count": null,
   "metadata": {},
   "outputs": [],
   "source": [
    "episodes = 5\n",
    "for episode in range(1, episodes+1):\n",
    "    print(episode)"
   ]
  },
  {
   "cell_type": "code",
   "execution_count": null,
   "metadata": {},
   "outputs": [],
   "source": [
    "env.reset()"
   ]
  },
  {
   "cell_type": "code",
   "execution_count": null,
   "metadata": {},
   "outputs": [],
   "source": [
    "env.action_space"
   ]
  },
  {
   "cell_type": "code",
   "execution_count": null,
   "metadata": {},
   "outputs": [],
   "source": [
    "env.observation_space.sample()"
   ]
  },
  {
   "cell_type": "markdown",
   "metadata": {},
   "source": [
    "### Train the model"
   ]
  },
  {
   "cell_type": "code",
   "execution_count": null,
   "metadata": {},
   "outputs": [],
   "source": [
    "log_path = os.path.join('Training', 'Logs')"
   ]
  },
  {
   "cell_type": "code",
   "execution_count": null,
   "metadata": {},
   "outputs": [],
   "source": [
    "env = gym.make(environment_name)\n",
    "\n",
    "#Wrap our environment in an vector environment\n",
    "env = DummyVecEnv([lambda:env])\n",
    "model = PPO('MlpPolicy', env, verbose = 1, tensorboard_log = log_path)"
   ]
  },
  {
   "cell_type": "code",
   "execution_count": null,
   "metadata": {},
   "outputs": [],
   "source": [
    "#Steps = \n",
    "model.learn(total_timesteps = 20000)\n"
   ]
  },
  {
   "cell_type": "markdown",
   "metadata": {},
   "source": [
    "### Save and Reload the Model"
   ]
  },
  {
   "cell_type": "code",
   "execution_count": 1,
   "metadata": {},
   "outputs": [
    {
     "ename": "NameError",
     "evalue": "name 'os' is not defined",
     "output_type": "error",
     "traceback": [
      "\u001b[0;31m---------------------------------------------------------------------------\u001b[0m",
      "\u001b[0;31mNameError\u001b[0m                                 Traceback (most recent call last)",
      "\u001b[0;32m<ipython-input-1-d0ca5c97fcbd>\u001b[0m in \u001b[0;36m<module>\u001b[0;34m\u001b[0m\n\u001b[0;32m----> 1\u001b[0;31m \u001b[0mPPO_Path\u001b[0m \u001b[0;34m=\u001b[0m \u001b[0mos\u001b[0m\u001b[0;34m.\u001b[0m\u001b[0mpath\u001b[0m\u001b[0;34m.\u001b[0m\u001b[0mjoin\u001b[0m\u001b[0;34m(\u001b[0m\u001b[0;34m'Training'\u001b[0m\u001b[0;34m,\u001b[0m \u001b[0;34m'Saved Models'\u001b[0m\u001b[0;34m,\u001b[0m \u001b[0;34m'PPO_Model_Cartpole'\u001b[0m\u001b[0;34m)\u001b[0m\u001b[0;34m\u001b[0m\u001b[0;34m\u001b[0m\u001b[0m\n\u001b[0m",
      "\u001b[0;31mNameError\u001b[0m: name 'os' is not defined"
     ]
    }
   ],
   "source": [
    "PPO_Path = os.path.join('Training', 'Saved Models', 'PPO_Model_Cartpole')"
   ]
  },
  {
   "cell_type": "code",
   "execution_count": null,
   "metadata": {},
   "outputs": [],
   "source": [
    "model.save(PPO_path)\n",
    "del model"
   ]
  },
  {
   "cell_type": "code",
   "execution_count": null,
   "metadata": {},
   "outputs": [],
   "source": [
    "model = PPO.load(PPO_path, env = env)"
   ]
  },
  {
   "cell_type": "markdown",
   "metadata": {},
   "source": [
    "### Test and Train the model"
   ]
  },
  {
   "cell_type": "code",
   "execution_count": null,
   "metadata": {},
   "outputs": [],
   "source": [
    "evaluate_policy(model, env, n_eval_episodes=10, render=True)\n",
    "\n",
    "\n",
    "#What should the average "
   ]
  },
  {
   "cell_type": "markdown",
   "metadata": {},
   "source": [
    "### 6. Test Model"
   ]
  },
  {
   "cell_type": "code",
   "execution_count": null,
   "metadata": {},
   "outputs": [],
   "source": [
    "action, _ = model.predict(obs)"
   ]
  },
  {
   "cell_type": "code",
   "execution_count": null,
   "metadata": {},
   "outputs": [],
   "source": [
    "episodes = 20\n",
    "for episode in range(1, episodes+1):\n",
    "    obs = env.reset()\n",
    "    done = False\n",
    "    score = 0\n",
    "    while not done:\n",
    "        env.render()\n",
    "        action, _ = model.predict(obs) #NOW WE ARE USING THE MODEL\n",
    "        obs, reward, done, info = env.step(action)\n",
    "        score += reward\n",
    "        \n",
    "    print('Episode: {} Score: {}'.format(episode, score))\n",
    "    \n",
    "#env.close()"
   ]
  },
  {
   "cell_type": "code",
   "execution_count": null,
   "metadata": {},
   "outputs": [],
   "source": [
    "obs = env.reset()\n",
    "\n",
    "action, _ = model.predict(obs)\n",
    "env.step(action)"
   ]
  },
  {
   "cell_type": "code",
   "execution_count": null,
   "metadata": {},
   "outputs": [],
   "source": [
    "env.close()"
   ]
  },
  {
   "cell_type": "code",
   "execution_count": null,
   "metadata": {},
   "outputs": [],
   "source": []
  },
  {
   "cell_type": "markdown",
   "metadata": {},
   "source": [
    "### 7. Viewing the Logs in Tensorboard"
   ]
  },
  {
   "cell_type": "code",
   "execution_count": null,
   "metadata": {},
   "outputs": [],
   "source": [
    "# You first need to give it a path\n",
    "\n",
    "training_log_path = os.path.join(log_path, 'PPO_2')"
   ]
  },
  {
   "cell_type": "code",
   "execution_count": null,
   "metadata": {},
   "outputs": [],
   "source": [
    "!tensorboard --logdir={training_log_path}"
   ]
  },
  {
   "cell_type": "markdown",
   "metadata": {},
   "source": [
    "### 8. Adding a callback to the training stage"
   ]
  },
  {
   "cell_type": "code",
   "execution_count": null,
   "metadata": {},
   "outputs": [],
   "source": [
    "#Some helpers from stable_baselines\n",
    "\n",
    "from stable_baselines3.common.callbacks import EvalCallback, StopTrainingOnRewardThreshold"
   ]
  },
  {
   "cell_type": "code",
   "execution_count": null,
   "metadata": {},
   "outputs": [],
   "source": [
    "save_path = os.path.join('Training', 'Saved Models')"
   ]
  },
  {
   "cell_type": "code",
   "execution_count": null,
   "metadata": {},
   "outputs": [],
   "source": [
    "stop_callback = StopTrainingOnRewardThreshold(reward_threshold = 200, verbose = 1)\n",
    "eval_callback = EvalCallBack(env, callback_on_new_best = stop_callback, eval_freq = 10000, best_model = pass, verbose = 1)\n",
    "\n",
    "\n"
   ]
  },
  {
   "cell_type": "code",
   "execution_count": null,
   "metadata": {},
   "outputs": [],
   "source": [
    "model.learn(total_timesteps = 20000, callback=eval_callback)"
   ]
  }
 ],
 "metadata": {
  "kernelspec": {
   "display_name": "Python 3",
   "language": "python",
   "name": "python3"
  },
  "language_info": {
   "codemirror_mode": {
    "name": "ipython",
    "version": 3
   },
   "file_extension": ".py",
   "mimetype": "text/x-python",
   "name": "python",
   "nbconvert_exporter": "python",
   "pygments_lexer": "ipython3",
   "version": "3.8.5"
  }
 },
 "nbformat": 4,
 "nbformat_minor": 4
}
